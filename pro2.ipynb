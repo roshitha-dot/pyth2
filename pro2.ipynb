{
 "cells": [
  {
   "cell_type": "code",
   "execution_count": 1,
   "id": "00e0ae4f-c5c9-470a-9a80-273f1e350d4c",
   "metadata": {},
   "outputs": [],
   "source": [
    "myname=\"Roshitha M S\"\n",
    "mybroname=\"Ritheash M S\"\n",
    "name=\"\"\n",
    "name=myname\n",
    "myname=mybroname\n",
    "mybroname=name"
   ]
  },
  {
   "cell_type": "code",
   "execution_count": 2,
   "id": "bfaafced-69e0-47b1-8e9a-dddc920bd5bf",
   "metadata": {},
   "outputs": [
    {
     "name": "stdout",
     "output_type": "stream",
     "text": [
      "Ritheash M S\n",
      "Roshitha M S\n"
     ]
    }
   ],
   "source": [
    "#swapping\n",
    "print(myname)\n",
    "print(mybroname)"
   ]
  },
  {
   "cell_type": "code",
   "execution_count": null,
   "id": "41e56141-8187-40f5-b875-2977d47f1b09",
   "metadata": {},
   "outputs": [],
   "source": []
  }
 ],
 "metadata": {
  "kernelspec": {
   "display_name": "Python 3 (ipykernel)",
   "language": "python",
   "name": "python3"
  },
  "language_info": {
   "codemirror_mode": {
    "name": "ipython",
    "version": 3
   },
   "file_extension": ".py",
   "mimetype": "text/x-python",
   "name": "python",
   "nbconvert_exporter": "python",
   "pygments_lexer": "ipython3",
   "version": "3.12.4"
  }
 },
 "nbformat": 4,
 "nbformat_minor": 5
}
